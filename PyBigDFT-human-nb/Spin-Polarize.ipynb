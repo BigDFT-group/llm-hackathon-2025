{
 "cells": [
  {
   "cell_type": "markdown",
   "id": "308456dc-31c8-4c13-896d-4cce818f53c3",
   "metadata": {},
   "source": [
    "#  Example on how to spin-polarize a System for BigDFT calculation\n",
    "The spin polarization of a system can be defined with the method `spin_polarize` of the Inputfile class, as follows:"
   ]
  },
  {
   "cell_type": "code",
   "execution_count": 1,
   "id": "3f6a5e36-444c-4796-af16-cb33b5dd6644",
   "metadata": {},
   "outputs": [],
   "source": [
    "from BigDFT import Inputfiles as I\n",
    "inp=I.Inputfile()\n",
    "inp.spin_polarize(1)"
   ]
  },
  {
   "cell_type": "markdown",
   "id": "476d0dae-1f1d-41cd-9693-0bb88dd23f4f",
   "metadata": {},
   "source": [
    "The above examplke shows how to perform a spin-collinear calculation with a spin po9larization of 1. The user should have to choose the desired value of the polarization for the system they want to simulate."
   ]
  },
  {
   "cell_type": "markdown",
   "id": "3e6f054e-8062-4f53-b02e-ba4ad370fd09",
   "metadata": {},
   "source": []
  }
 ],
 "metadata": {
  "kernelspec": {
   "display_name": "Python 3 (ipykernel)",
   "language": "python",
   "name": "python3"
  },
  "language_info": {
   "codemirror_mode": {
    "name": "ipython",
    "version": 3
   },
   "file_extension": ".py",
   "mimetype": "text/x-python",
   "name": "python",
   "nbconvert_exporter": "python",
   "pygments_lexer": "ipython3",
   "version": "3.12.8"
  }
 },
 "nbformat": 4,
 "nbformat_minor": 5
}
